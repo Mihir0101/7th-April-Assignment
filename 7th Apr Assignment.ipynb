{
 "cells": [
  {
   "cell_type": "markdown",
   "id": "abfaf09e-08a5-4ea0-a829-9ad6372948b5",
   "metadata": {},
   "source": [
    "# 7th April Assignment"
   ]
  },
  {
   "cell_type": "code",
   "execution_count": null,
   "id": "06fb5630-afe1-4367-b4b4-c56a4857241e",
   "metadata": {},
   "outputs": [],
   "source": []
  },
  {
   "cell_type": "markdown",
   "id": "c5d87e33-d214-4f71-a782-013749a4192c",
   "metadata": {},
   "source": [
    "## Q1. What is the relationship between polynomial functions and kernel functions in machine learning algorithms?"
   ]
  },
  {
   "cell_type": "markdown",
   "id": "00481762-5a38-4e7e-bb11-cbafb3d9699a",
   "metadata": {},
   "source": [
    "- > Polynomial functions are fundamental component of kernel functions.\n",
    "\n",
    "- > The kernel functions allows machine learning algorithm to handle non-linear relationship effectively in the data by operating in higher-dimensional spaces without the computational cost of explicit feature transformations."
   ]
  },
  {
   "cell_type": "code",
   "execution_count": null,
   "id": "32b426c9-7280-4698-84d2-ee4eb69c59b7",
   "metadata": {},
   "outputs": [],
   "source": []
  },
  {
   "cell_type": "markdown",
   "id": "b34bc504-0ea0-41b3-b17a-1b4a16f8146a",
   "metadata": {},
   "source": [
    "## Q2. How can we implement an SVM with a polynomial kernel in Python using Scikit-learn?"
   ]
  },
  {
   "cell_type": "markdown",
   "id": "a066e982-32fa-4945-86c0-9b3f79aedc75",
   "metadata": {},
   "source": [
    "- > There is library avilable in python,in which we just have to define the kernel name and we can use it."
   ]
  },
  {
   "cell_type": "code",
   "execution_count": 1,
   "id": "e672181c-c841-4ab4-88f3-459082844f00",
   "metadata": {},
   "outputs": [],
   "source": [
    "from sklearn.svm import SVC"
   ]
  },
  {
   "cell_type": "code",
   "execution_count": 2,
   "id": "10b80352-43ce-4de2-b849-231db28d144c",
   "metadata": {},
   "outputs": [],
   "source": [
    "svc = SVC(kernel='poly')"
   ]
  },
  {
   "cell_type": "code",
   "execution_count": null,
   "id": "87b0e853-7ea4-4f38-b16b-8975cfbaf302",
   "metadata": {},
   "outputs": [],
   "source": []
  },
  {
   "cell_type": "markdown",
   "id": "345484d1-c88f-4a74-9159-c52767e9d35b",
   "metadata": {},
   "source": [
    "## Q3. How does increasing the value of epsilon affect the number of support vectors in SVR?"
   ]
  },
  {
   "cell_type": "markdown",
   "id": "fb57dde0-5238-4b2c-8dca-f2343109259d",
   "metadata": {},
   "source": [
    "- > The choice of ε in SVR influences the trade-off between model complexity and error tolerance. A larger ε increases the tolerance to errors, potentially leading to more support vectors and a more flexible model. On the other hand, a smaller ε makes the model less tolerant to errors, resulting in fewer support vectors and a more rigid model that focuses on accurately fitting data points close to the regression line. The appropriate value of ε depends on the specific characteristics of the data and the desired balance between model complexity and accuracy."
   ]
  },
  {
   "cell_type": "code",
   "execution_count": null,
   "id": "177192aa-3ab5-4303-b169-322f9cd2bc31",
   "metadata": {},
   "outputs": [],
   "source": []
  },
  {
   "cell_type": "markdown",
   "id": "2e33d76c-eda5-42b3-b09d-20feb50b5138",
   "metadata": {},
   "source": [
    "## Q4. How does the choice of kernel function, C parameter, epsilon parameter, and gamma parameter affect the performance of Support Vector Regression (SVR)? Can you explain how each parameter works "
   ]
  },
  {
   "cell_type": "markdown",
   "id": "00b8ec37-f449-4766-be57-75166ed55957",
   "metadata": {},
   "source": [
    "1. Kernel Function\n",
    "\n",
    "- > Polynomial Kernel : Suitable for non-linear relationship.\n",
    "\n",
    "- > Linear Kernel : Suitable for linear relationship.\n",
    "\n",
    "- > RBF - Suitable for complex non-linear relationship.\n",
    "\n",
    "- > Impact: The choice of the kernel function determines the model's capacity to capture the underlying patterns in the data. It is essential to experiment with different kernels based on the data's characteristics.\n",
    "\n",
    "2. C Parameter\n",
    "\n",
    "- > Description: The regularization parameter C controls the trade-off between fitting the training data well and having a smooth decision function.\n",
    "\n",
    "- > Effect: A smaller C encourages a smoother decision function, while a larger C allows the model to fit the training data more closely, possibly leading to overfitting.\n",
    "\n",
    "3. Epsilon Parameter\n",
    "\n",
    "- > Description: ε defines the width of the ε-insensitive loss function. It determines the tolerance of errors within this range.\n",
    "\n",
    "- > Effect: A larger ε allows a wider margin, making the model more tolerant to errors. A smaller ε enforces a narrower margin, making the model less tolerant.\n",
    "\n",
    "4. Gamma Parameter \n",
    "\n",
    "- > Description: γ is a parameter for non-linear hyperplanes. It defines how far the influence of a single training example reaches.\n",
    "\n",
    "- > Effect: A smaller γ makes the influence more global, leading to smoother decision boundaries. A larger γ makes the influence more local, potentially capturing more complex patterns."
   ]
  },
  {
   "cell_type": "code",
   "execution_count": null,
   "id": "8f40aff3-a7e9-487a-8a26-6d42a6290e4e",
   "metadata": {},
   "outputs": [],
   "source": []
  },
  {
   "cell_type": "markdown",
   "id": "bbf82366-a6eb-4c1c-8453-7e94fbf40d9a",
   "metadata": {},
   "source": [
    "## Q5. Assignment"
   ]
  },
  {
   "cell_type": "code",
   "execution_count": 11,
   "id": "80acbc97-d31f-48ff-a8b0-b2727114a135",
   "metadata": {},
   "outputs": [],
   "source": [
    "import pandas as pd\n",
    "import pickle"
   ]
  },
  {
   "cell_type": "code",
   "execution_count": 12,
   "id": "61a79eeb-30a7-474a-8f1d-b7e66b8bd10e",
   "metadata": {},
   "outputs": [],
   "source": [
    "from sklearn.datasets import load_breast_cancer"
   ]
  },
  {
   "cell_type": "code",
   "execution_count": 13,
   "id": "ba2acdef-19ed-497c-a429-bbf625299fa8",
   "metadata": {},
   "outputs": [],
   "source": [
    "dataset = load_breast_cancer()"
   ]
  },
  {
   "cell_type": "code",
   "execution_count": 14,
   "id": "8f9a7783-ee5f-4d76-9616-caa2acd1248c",
   "metadata": {},
   "outputs": [],
   "source": [
    "x = pd.DataFrame(dataset.data,columns=dataset.feature_names)"
   ]
  },
  {
   "cell_type": "code",
   "execution_count": 17,
   "id": "1a6a0722-1d24-4257-b825-3eaccbed9080",
   "metadata": {},
   "outputs": [],
   "source": [
    "y = dataset.target"
   ]
  },
  {
   "cell_type": "code",
   "execution_count": 19,
   "id": "35d2b127-9e9a-4aca-8bbc-de7698b621cf",
   "metadata": {},
   "outputs": [],
   "source": [
    "from sklearn.model_selection import train_test_split"
   ]
  },
  {
   "cell_type": "code",
   "execution_count": 20,
   "id": "f5edb1bf-72e5-464c-b3db-3ca3aa8c32c0",
   "metadata": {},
   "outputs": [],
   "source": [
    "x_train,x_test,y_train,y_test = train_test_split(x,y,test_size=0.33,random_state=42)"
   ]
  },
  {
   "cell_type": "code",
   "execution_count": 21,
   "id": "8f7131da-ba67-49ad-90a7-980ac3b3aa2d",
   "metadata": {},
   "outputs": [],
   "source": [
    "from sklearn.preprocessing import StandardScaler"
   ]
  },
  {
   "cell_type": "code",
   "execution_count": 22,
   "id": "f747218c-89d5-4722-94f2-17934b370cf1",
   "metadata": {},
   "outputs": [],
   "source": [
    "scaler = StandardScaler()"
   ]
  },
  {
   "cell_type": "code",
   "execution_count": 24,
   "id": "1e467a72-0383-412f-b66f-90ea7aca336a",
   "metadata": {},
   "outputs": [],
   "source": [
    "x_train = scaler.fit_transform(x_train)\n",
    "x_test = scaler.transform(x_test)"
   ]
  },
  {
   "cell_type": "code",
   "execution_count": 25,
   "id": "0f0b56f7-2d32-4ac3-a2f1-06eaa237bb49",
   "metadata": {},
   "outputs": [],
   "source": [
    "from sklearn.svm import SVC"
   ]
  },
  {
   "cell_type": "code",
   "execution_count": 26,
   "id": "040a3114-cd50-4bfe-b60b-2c1b7483555a",
   "metadata": {},
   "outputs": [],
   "source": [
    "svc = SVC()"
   ]
  },
  {
   "cell_type": "code",
   "execution_count": 27,
   "id": "baa4e41d-4912-4085-a441-a91f192086ba",
   "metadata": {},
   "outputs": [
    {
     "data": {
      "text/html": [
       "<style>#sk-container-id-1 {color: black;background-color: white;}#sk-container-id-1 pre{padding: 0;}#sk-container-id-1 div.sk-toggleable {background-color: white;}#sk-container-id-1 label.sk-toggleable__label {cursor: pointer;display: block;width: 100%;margin-bottom: 0;padding: 0.3em;box-sizing: border-box;text-align: center;}#sk-container-id-1 label.sk-toggleable__label-arrow:before {content: \"▸\";float: left;margin-right: 0.25em;color: #696969;}#sk-container-id-1 label.sk-toggleable__label-arrow:hover:before {color: black;}#sk-container-id-1 div.sk-estimator:hover label.sk-toggleable__label-arrow:before {color: black;}#sk-container-id-1 div.sk-toggleable__content {max-height: 0;max-width: 0;overflow: hidden;text-align: left;background-color: #f0f8ff;}#sk-container-id-1 div.sk-toggleable__content pre {margin: 0.2em;color: black;border-radius: 0.25em;background-color: #f0f8ff;}#sk-container-id-1 input.sk-toggleable__control:checked~div.sk-toggleable__content {max-height: 200px;max-width: 100%;overflow: auto;}#sk-container-id-1 input.sk-toggleable__control:checked~label.sk-toggleable__label-arrow:before {content: \"▾\";}#sk-container-id-1 div.sk-estimator input.sk-toggleable__control:checked~label.sk-toggleable__label {background-color: #d4ebff;}#sk-container-id-1 div.sk-label input.sk-toggleable__control:checked~label.sk-toggleable__label {background-color: #d4ebff;}#sk-container-id-1 input.sk-hidden--visually {border: 0;clip: rect(1px 1px 1px 1px);clip: rect(1px, 1px, 1px, 1px);height: 1px;margin: -1px;overflow: hidden;padding: 0;position: absolute;width: 1px;}#sk-container-id-1 div.sk-estimator {font-family: monospace;background-color: #f0f8ff;border: 1px dotted black;border-radius: 0.25em;box-sizing: border-box;margin-bottom: 0.5em;}#sk-container-id-1 div.sk-estimator:hover {background-color: #d4ebff;}#sk-container-id-1 div.sk-parallel-item::after {content: \"\";width: 100%;border-bottom: 1px solid gray;flex-grow: 1;}#sk-container-id-1 div.sk-label:hover label.sk-toggleable__label {background-color: #d4ebff;}#sk-container-id-1 div.sk-serial::before {content: \"\";position: absolute;border-left: 1px solid gray;box-sizing: border-box;top: 0;bottom: 0;left: 50%;z-index: 0;}#sk-container-id-1 div.sk-serial {display: flex;flex-direction: column;align-items: center;background-color: white;padding-right: 0.2em;padding-left: 0.2em;position: relative;}#sk-container-id-1 div.sk-item {position: relative;z-index: 1;}#sk-container-id-1 div.sk-parallel {display: flex;align-items: stretch;justify-content: center;background-color: white;position: relative;}#sk-container-id-1 div.sk-item::before, #sk-container-id-1 div.sk-parallel-item::before {content: \"\";position: absolute;border-left: 1px solid gray;box-sizing: border-box;top: 0;bottom: 0;left: 50%;z-index: -1;}#sk-container-id-1 div.sk-parallel-item {display: flex;flex-direction: column;z-index: 1;position: relative;background-color: white;}#sk-container-id-1 div.sk-parallel-item:first-child::after {align-self: flex-end;width: 50%;}#sk-container-id-1 div.sk-parallel-item:last-child::after {align-self: flex-start;width: 50%;}#sk-container-id-1 div.sk-parallel-item:only-child::after {width: 0;}#sk-container-id-1 div.sk-dashed-wrapped {border: 1px dashed gray;margin: 0 0.4em 0.5em 0.4em;box-sizing: border-box;padding-bottom: 0.4em;background-color: white;}#sk-container-id-1 div.sk-label label {font-family: monospace;font-weight: bold;display: inline-block;line-height: 1.2em;}#sk-container-id-1 div.sk-label-container {text-align: center;}#sk-container-id-1 div.sk-container {/* jupyter's `normalize.less` sets `[hidden] { display: none; }` but bootstrap.min.css set `[hidden] { display: none !important; }` so we also need the `!important` here to be able to override the default hidden behavior on the sphinx rendered scikit-learn.org. See: https://github.com/scikit-learn/scikit-learn/issues/21755 */display: inline-block !important;position: relative;}#sk-container-id-1 div.sk-text-repr-fallback {display: none;}</style><div id=\"sk-container-id-1\" class=\"sk-top-container\"><div class=\"sk-text-repr-fallback\"><pre>SVC()</pre><b>In a Jupyter environment, please rerun this cell to show the HTML representation or trust the notebook. <br />On GitHub, the HTML representation is unable to render, please try loading this page with nbviewer.org.</b></div><div class=\"sk-container\" hidden><div class=\"sk-item\"><div class=\"sk-estimator sk-toggleable\"><input class=\"sk-toggleable__control sk-hidden--visually\" id=\"sk-estimator-id-1\" type=\"checkbox\" checked><label for=\"sk-estimator-id-1\" class=\"sk-toggleable__label sk-toggleable__label-arrow\">SVC</label><div class=\"sk-toggleable__content\"><pre>SVC()</pre></div></div></div></div></div>"
      ],
      "text/plain": [
       "SVC()"
      ]
     },
     "execution_count": 27,
     "metadata": {},
     "output_type": "execute_result"
    }
   ],
   "source": [
    "svc.fit(x_train,y_train)"
   ]
  },
  {
   "cell_type": "code",
   "execution_count": 28,
   "id": "ebe5aded-c4b6-4229-b07d-788ab7522932",
   "metadata": {},
   "outputs": [],
   "source": [
    "y_predicted = svc.predict(x_test)"
   ]
  },
  {
   "cell_type": "code",
   "execution_count": 29,
   "id": "ac508034-0358-441c-83ca-521f82a21e0d",
   "metadata": {},
   "outputs": [],
   "source": [
    "from sklearn.metrics import accuracy_score,classification_report"
   ]
  },
  {
   "cell_type": "code",
   "execution_count": 30,
   "id": "babcb909-9de4-4700-803e-730d8f01d6eb",
   "metadata": {},
   "outputs": [
    {
     "name": "stdout",
     "output_type": "stream",
     "text": [
      "0.9680851063829787\n",
      "              precision    recall  f1-score   support\n",
      "\n",
      "           0       0.94      0.97      0.96        67\n",
      "           1       0.98      0.97      0.97       121\n",
      "\n",
      "    accuracy                           0.97       188\n",
      "   macro avg       0.96      0.97      0.97       188\n",
      "weighted avg       0.97      0.97      0.97       188\n",
      "\n"
     ]
    }
   ],
   "source": [
    "print(accuracy_score(y_test,y_predicted))\n",
    "print(classification_report(y_test,y_predicted))"
   ]
  },
  {
   "cell_type": "code",
   "execution_count": 31,
   "id": "f41066fc-c951-47e9-ad4e-e333355b33c2",
   "metadata": {},
   "outputs": [],
   "source": [
    "from sklearn.model_selection import GridSearchCV"
   ]
  },
  {
   "cell_type": "code",
   "execution_count": 37,
   "id": "7017a6cb-c7ac-4d0d-bfce-4e3a4f63a527",
   "metadata": {},
   "outputs": [],
   "source": [
    "params = {\n",
    "        'C' : [1.0,2.0,3.0],\n",
    "        'kernel' : ['linear','poly','rbf','sigmoid'],\n",
    "        'gamma':[0.1,0.2,0.3],\n",
    "        }"
   ]
  },
  {
   "cell_type": "code",
   "execution_count": 38,
   "id": "bb18874f-6218-48e4-a451-1dd2c224adfa",
   "metadata": {},
   "outputs": [],
   "source": [
    "hyper = GridSearchCV(SVC(),param_grid=params,cv=5,refit=True,verbose=3)"
   ]
  },
  {
   "cell_type": "code",
   "execution_count": 39,
   "id": "1624977a-093d-4daf-b61c-596c83f3ba14",
   "metadata": {},
   "outputs": [
    {
     "name": "stdout",
     "output_type": "stream",
     "text": [
      "Fitting 5 folds for each of 36 candidates, totalling 180 fits\n",
      "[CV 1/5] END ...C=1.0, gamma=0.1, kernel=linear;, score=0.974 total time=   0.0s\n",
      "[CV 2/5] END ...C=1.0, gamma=0.1, kernel=linear;, score=0.961 total time=   0.0s\n",
      "[CV 3/5] END ...C=1.0, gamma=0.1, kernel=linear;, score=0.987 total time=   0.0s\n",
      "[CV 4/5] END ...C=1.0, gamma=0.1, kernel=linear;, score=0.961 total time=   0.0s\n",
      "[CV 5/5] END ...C=1.0, gamma=0.1, kernel=linear;, score=0.961 total time=   0.0s\n",
      "[CV 1/5] END .....C=1.0, gamma=0.1, kernel=poly;, score=0.987 total time=   0.0s\n",
      "[CV 2/5] END .....C=1.0, gamma=0.1, kernel=poly;, score=0.974 total time=   0.0s\n",
      "[CV 3/5] END .....C=1.0, gamma=0.1, kernel=poly;, score=0.934 total time=   0.0s\n",
      "[CV 4/5] END .....C=1.0, gamma=0.1, kernel=poly;, score=0.947 total time=   0.0s\n",
      "[CV 5/5] END .....C=1.0, gamma=0.1, kernel=poly;, score=0.934 total time=   0.0s\n",
      "[CV 1/5] END ......C=1.0, gamma=0.1, kernel=rbf;, score=0.987 total time=   0.0s\n",
      "[CV 2/5] END ......C=1.0, gamma=0.1, kernel=rbf;, score=0.947 total time=   0.0s\n",
      "[CV 3/5] END ......C=1.0, gamma=0.1, kernel=rbf;, score=0.908 total time=   0.0s\n",
      "[CV 4/5] END ......C=1.0, gamma=0.1, kernel=rbf;, score=0.961 total time=   0.0s\n",
      "[CV 5/5] END ......C=1.0, gamma=0.1, kernel=rbf;, score=0.934 total time=   0.0s\n",
      "[CV 1/5] END ..C=1.0, gamma=0.1, kernel=sigmoid;, score=0.883 total time=   0.0s\n",
      "[CV 2/5] END ..C=1.0, gamma=0.1, kernel=sigmoid;, score=0.934 total time=   0.0s\n",
      "[CV 3/5] END ..C=1.0, gamma=0.1, kernel=sigmoid;, score=0.908 total time=   0.0s\n",
      "[CV 4/5] END ..C=1.0, gamma=0.1, kernel=sigmoid;, score=0.895 total time=   0.0s\n",
      "[CV 5/5] END ..C=1.0, gamma=0.1, kernel=sigmoid;, score=0.908 total time=   0.0s\n",
      "[CV 1/5] END ...C=1.0, gamma=0.2, kernel=linear;, score=0.974 total time=   0.0s\n",
      "[CV 2/5] END ...C=1.0, gamma=0.2, kernel=linear;, score=0.961 total time=   0.0s\n",
      "[CV 3/5] END ...C=1.0, gamma=0.2, kernel=linear;, score=0.987 total time=   0.0s\n",
      "[CV 4/5] END ...C=1.0, gamma=0.2, kernel=linear;, score=0.961 total time=   0.0s\n",
      "[CV 5/5] END ...C=1.0, gamma=0.2, kernel=linear;, score=0.961 total time=   0.0s\n",
      "[CV 1/5] END .....C=1.0, gamma=0.2, kernel=poly;, score=0.987 total time=   0.0s\n",
      "[CV 2/5] END .....C=1.0, gamma=0.2, kernel=poly;, score=0.961 total time=   0.0s\n",
      "[CV 3/5] END .....C=1.0, gamma=0.2, kernel=poly;, score=0.921 total time=   0.0s\n",
      "[CV 4/5] END .....C=1.0, gamma=0.2, kernel=poly;, score=0.974 total time=   0.0s\n",
      "[CV 5/5] END .....C=1.0, gamma=0.2, kernel=poly;, score=0.908 total time=   0.0s\n",
      "[CV 1/5] END ......C=1.0, gamma=0.2, kernel=rbf;, score=0.948 total time=   0.0s\n",
      "[CV 2/5] END ......C=1.0, gamma=0.2, kernel=rbf;, score=0.921 total time=   0.0s\n",
      "[CV 3/5] END ......C=1.0, gamma=0.2, kernel=rbf;, score=0.855 total time=   0.0s\n",
      "[CV 4/5] END ......C=1.0, gamma=0.2, kernel=rbf;, score=0.961 total time=   0.0s\n",
      "[CV 5/5] END ......C=1.0, gamma=0.2, kernel=rbf;, score=0.947 total time=   0.0s\n",
      "[CV 1/5] END ..C=1.0, gamma=0.2, kernel=sigmoid;, score=0.909 total time=   0.0s\n",
      "[CV 2/5] END ..C=1.0, gamma=0.2, kernel=sigmoid;, score=0.934 total time=   0.0s\n",
      "[CV 3/5] END ..C=1.0, gamma=0.2, kernel=sigmoid;, score=0.895 total time=   0.0s\n",
      "[CV 4/5] END ..C=1.0, gamma=0.2, kernel=sigmoid;, score=0.895 total time=   0.0s\n",
      "[CV 5/5] END ..C=1.0, gamma=0.2, kernel=sigmoid;, score=0.908 total time=   0.0s\n",
      "[CV 1/5] END ...C=1.0, gamma=0.3, kernel=linear;, score=0.974 total time=   0.0s\n",
      "[CV 2/5] END ...C=1.0, gamma=0.3, kernel=linear;, score=0.961 total time=   0.0s\n",
      "[CV 3/5] END ...C=1.0, gamma=0.3, kernel=linear;, score=0.987 total time=   0.0s\n",
      "[CV 4/5] END ...C=1.0, gamma=0.3, kernel=linear;, score=0.961 total time=   0.0s\n",
      "[CV 5/5] END ...C=1.0, gamma=0.3, kernel=linear;, score=0.961 total time=   0.0s\n",
      "[CV 1/5] END .....C=1.0, gamma=0.3, kernel=poly;, score=0.974 total time=   0.0s\n",
      "[CV 2/5] END .....C=1.0, gamma=0.3, kernel=poly;, score=0.961 total time=   0.0s\n",
      "[CV 3/5] END .....C=1.0, gamma=0.3, kernel=poly;, score=0.934 total time=   0.0s\n",
      "[CV 4/5] END .....C=1.0, gamma=0.3, kernel=poly;, score=0.947 total time=   0.0s\n",
      "[CV 5/5] END .....C=1.0, gamma=0.3, kernel=poly;, score=0.882 total time=   0.0s\n",
      "[CV 1/5] END ......C=1.0, gamma=0.3, kernel=rbf;, score=0.948 total time=   0.0s\n",
      "[CV 2/5] END ......C=1.0, gamma=0.3, kernel=rbf;, score=0.921 total time=   0.0s\n",
      "[CV 3/5] END ......C=1.0, gamma=0.3, kernel=rbf;, score=0.842 total time=   0.0s\n",
      "[CV 4/5] END ......C=1.0, gamma=0.3, kernel=rbf;, score=0.961 total time=   0.0s\n",
      "[CV 5/5] END ......C=1.0, gamma=0.3, kernel=rbf;, score=0.947 total time=   0.0s\n",
      "[CV 1/5] END ..C=1.0, gamma=0.3, kernel=sigmoid;, score=0.857 total time=   0.0s\n",
      "[CV 2/5] END ..C=1.0, gamma=0.3, kernel=sigmoid;, score=0.868 total time=   0.0s\n",
      "[CV 3/5] END ..C=1.0, gamma=0.3, kernel=sigmoid;, score=0.908 total time=   0.0s\n",
      "[CV 4/5] END ..C=1.0, gamma=0.3, kernel=sigmoid;, score=0.868 total time=   0.0s\n",
      "[CV 5/5] END ..C=1.0, gamma=0.3, kernel=sigmoid;, score=0.882 total time=   0.0s\n",
      "[CV 1/5] END ...C=2.0, gamma=0.1, kernel=linear;, score=0.974 total time=   0.0s\n",
      "[CV 2/5] END ...C=2.0, gamma=0.1, kernel=linear;, score=0.947 total time=   0.0s\n",
      "[CV 3/5] END ...C=2.0, gamma=0.1, kernel=linear;, score=0.987 total time=   0.0s\n",
      "[CV 4/5] END ...C=2.0, gamma=0.1, kernel=linear;, score=0.974 total time=   0.0s\n",
      "[CV 5/5] END ...C=2.0, gamma=0.1, kernel=linear;, score=0.947 total time=   0.0s\n",
      "[CV 1/5] END .....C=2.0, gamma=0.1, kernel=poly;, score=0.987 total time=   0.0s\n",
      "[CV 2/5] END .....C=2.0, gamma=0.1, kernel=poly;, score=0.974 total time=   0.0s\n",
      "[CV 3/5] END .....C=2.0, gamma=0.1, kernel=poly;, score=0.947 total time=   0.0s\n",
      "[CV 4/5] END .....C=2.0, gamma=0.1, kernel=poly;, score=0.974 total time=   0.0s\n",
      "[CV 5/5] END .....C=2.0, gamma=0.1, kernel=poly;, score=0.934 total time=   0.0s\n",
      "[CV 1/5] END ......C=2.0, gamma=0.1, kernel=rbf;, score=0.987 total time=   0.0s\n",
      "[CV 2/5] END ......C=2.0, gamma=0.1, kernel=rbf;, score=0.947 total time=   0.0s\n",
      "[CV 3/5] END ......C=2.0, gamma=0.1, kernel=rbf;, score=0.895 total time=   0.0s\n",
      "[CV 4/5] END ......C=2.0, gamma=0.1, kernel=rbf;, score=0.961 total time=   0.0s\n",
      "[CV 5/5] END ......C=2.0, gamma=0.1, kernel=rbf;, score=0.921 total time=   0.0s\n",
      "[CV 1/5] END ..C=2.0, gamma=0.1, kernel=sigmoid;, score=0.896 total time=   0.0s\n",
      "[CV 2/5] END ..C=2.0, gamma=0.1, kernel=sigmoid;, score=0.895 total time=   0.0s\n",
      "[CV 3/5] END ..C=2.0, gamma=0.1, kernel=sigmoid;, score=0.895 total time=   0.0s\n",
      "[CV 4/5] END ..C=2.0, gamma=0.1, kernel=sigmoid;, score=0.908 total time=   0.0s\n",
      "[CV 5/5] END ..C=2.0, gamma=0.1, kernel=sigmoid;, score=0.882 total time=   0.0s\n",
      "[CV 1/5] END ...C=2.0, gamma=0.2, kernel=linear;, score=0.974 total time=   0.0s\n",
      "[CV 2/5] END ...C=2.0, gamma=0.2, kernel=linear;, score=0.947 total time=   0.0s\n",
      "[CV 3/5] END ...C=2.0, gamma=0.2, kernel=linear;, score=0.987 total time=   0.0s\n",
      "[CV 4/5] END ...C=2.0, gamma=0.2, kernel=linear;, score=0.974 total time=   0.0s\n",
      "[CV 5/5] END ...C=2.0, gamma=0.2, kernel=linear;, score=0.947 total time=   0.0s\n",
      "[CV 1/5] END .....C=2.0, gamma=0.2, kernel=poly;, score=0.974 total time=   0.0s\n",
      "[CV 2/5] END .....C=2.0, gamma=0.2, kernel=poly;, score=0.961 total time=   0.0s\n",
      "[CV 3/5] END .....C=2.0, gamma=0.2, kernel=poly;, score=0.934 total time=   0.0s\n",
      "[CV 4/5] END .....C=2.0, gamma=0.2, kernel=poly;, score=0.947 total time=   0.0s\n",
      "[CV 5/5] END .....C=2.0, gamma=0.2, kernel=poly;, score=0.882 total time=   0.0s\n",
      "[CV 1/5] END ......C=2.0, gamma=0.2, kernel=rbf;, score=0.948 total time=   0.0s\n",
      "[CV 2/5] END ......C=2.0, gamma=0.2, kernel=rbf;, score=0.947 total time=   0.0s\n",
      "[CV 3/5] END ......C=2.0, gamma=0.2, kernel=rbf;, score=0.842 total time=   0.0s\n",
      "[CV 4/5] END ......C=2.0, gamma=0.2, kernel=rbf;, score=0.961 total time=   0.0s\n",
      "[CV 5/5] END ......C=2.0, gamma=0.2, kernel=rbf;, score=0.921 total time=   0.0s\n",
      "[CV 1/5] END ..C=2.0, gamma=0.2, kernel=sigmoid;, score=0.896 total time=   0.0s\n",
      "[CV 2/5] END ..C=2.0, gamma=0.2, kernel=sigmoid;, score=0.882 total time=   0.0s\n",
      "[CV 3/5] END ..C=2.0, gamma=0.2, kernel=sigmoid;, score=0.908 total time=   0.0s\n",
      "[CV 4/5] END ..C=2.0, gamma=0.2, kernel=sigmoid;, score=0.895 total time=   0.0s\n",
      "[CV 5/5] END ..C=2.0, gamma=0.2, kernel=sigmoid;, score=0.882 total time=   0.0s\n",
      "[CV 1/5] END ...C=2.0, gamma=0.3, kernel=linear;, score=0.974 total time=   0.0s\n",
      "[CV 2/5] END ...C=2.0, gamma=0.3, kernel=linear;, score=0.947 total time=   0.0s\n",
      "[CV 3/5] END ...C=2.0, gamma=0.3, kernel=linear;, score=0.987 total time=   0.0s\n",
      "[CV 4/5] END ...C=2.0, gamma=0.3, kernel=linear;, score=0.974 total time=   0.0s\n",
      "[CV 5/5] END ...C=2.0, gamma=0.3, kernel=linear;, score=0.947 total time=   0.0s\n",
      "[CV 1/5] END .....C=2.0, gamma=0.3, kernel=poly;, score=0.974 total time=   0.0s\n",
      "[CV 2/5] END .....C=2.0, gamma=0.3, kernel=poly;, score=0.961 total time=   0.0s\n",
      "[CV 3/5] END .....C=2.0, gamma=0.3, kernel=poly;, score=0.934 total time=   0.0s\n",
      "[CV 4/5] END .....C=2.0, gamma=0.3, kernel=poly;, score=0.947 total time=   0.0s\n",
      "[CV 5/5] END .....C=2.0, gamma=0.3, kernel=poly;, score=0.882 total time=   0.0s\n",
      "[CV 1/5] END ......C=2.0, gamma=0.3, kernel=rbf;, score=0.948 total time=   0.0s\n",
      "[CV 2/5] END ......C=2.0, gamma=0.3, kernel=rbf;, score=0.921 total time=   0.0s\n",
      "[CV 3/5] END ......C=2.0, gamma=0.3, kernel=rbf;, score=0.842 total time=   0.0s\n",
      "[CV 4/5] END ......C=2.0, gamma=0.3, kernel=rbf;, score=0.961 total time=   0.0s\n",
      "[CV 5/5] END ......C=2.0, gamma=0.3, kernel=rbf;, score=0.934 total time=   0.0s\n",
      "[CV 1/5] END ..C=2.0, gamma=0.3, kernel=sigmoid;, score=0.909 total time=   0.0s\n",
      "[CV 2/5] END ..C=2.0, gamma=0.3, kernel=sigmoid;, score=0.868 total time=   0.0s\n",
      "[CV 3/5] END ..C=2.0, gamma=0.3, kernel=sigmoid;, score=0.789 total time=   0.0s\n",
      "[CV 4/5] END ..C=2.0, gamma=0.3, kernel=sigmoid;, score=0.895 total time=   0.0s\n",
      "[CV 5/5] END ..C=2.0, gamma=0.3, kernel=sigmoid;, score=0.842 total time=   0.0s\n",
      "[CV 1/5] END ...C=3.0, gamma=0.1, kernel=linear;, score=0.974 total time=   0.0s\n",
      "[CV 2/5] END ...C=3.0, gamma=0.1, kernel=linear;, score=0.947 total time=   0.0s\n",
      "[CV 3/5] END ...C=3.0, gamma=0.1, kernel=linear;, score=1.000 total time=   0.0s\n",
      "[CV 4/5] END ...C=3.0, gamma=0.1, kernel=linear;, score=0.974 total time=   0.0s\n",
      "[CV 5/5] END ...C=3.0, gamma=0.1, kernel=linear;, score=0.947 total time=   0.0s\n",
      "[CV 1/5] END .....C=3.0, gamma=0.1, kernel=poly;, score=0.987 total time=   0.0s\n",
      "[CV 2/5] END .....C=3.0, gamma=0.1, kernel=poly;, score=0.961 total time=   0.0s\n",
      "[CV 3/5] END .....C=3.0, gamma=0.1, kernel=poly;, score=0.947 total time=   0.0s\n",
      "[CV 4/5] END .....C=3.0, gamma=0.1, kernel=poly;, score=0.974 total time=   0.0s\n",
      "[CV 5/5] END .....C=3.0, gamma=0.1, kernel=poly;, score=0.934 total time=   0.0s\n",
      "[CV 1/5] END ......C=3.0, gamma=0.1, kernel=rbf;, score=0.987 total time=   0.0s\n",
      "[CV 2/5] END ......C=3.0, gamma=0.1, kernel=rbf;, score=0.961 total time=   0.0s\n",
      "[CV 3/5] END ......C=3.0, gamma=0.1, kernel=rbf;, score=0.868 total time=   0.0s\n",
      "[CV 4/5] END ......C=3.0, gamma=0.1, kernel=rbf;, score=0.961 total time=   0.0s\n",
      "[CV 5/5] END ......C=3.0, gamma=0.1, kernel=rbf;, score=0.921 total time=   0.0s\n",
      "[CV 1/5] END ..C=3.0, gamma=0.1, kernel=sigmoid;, score=0.896 total time=   0.0s\n",
      "[CV 2/5] END ..C=3.0, gamma=0.1, kernel=sigmoid;, score=0.895 total time=   0.0s\n",
      "[CV 3/5] END ..C=3.0, gamma=0.1, kernel=sigmoid;, score=0.921 total time=   0.0s\n",
      "[CV 4/5] END ..C=3.0, gamma=0.1, kernel=sigmoid;, score=0.868 total time=   0.0s\n",
      "[CV 5/5] END ..C=3.0, gamma=0.1, kernel=sigmoid;, score=0.868 total time=   0.0s\n",
      "[CV 1/5] END ...C=3.0, gamma=0.2, kernel=linear;, score=0.974 total time=   0.0s\n",
      "[CV 2/5] END ...C=3.0, gamma=0.2, kernel=linear;, score=0.947 total time=   0.0s\n",
      "[CV 3/5] END ...C=3.0, gamma=0.2, kernel=linear;, score=1.000 total time=   0.0s\n",
      "[CV 4/5] END ...C=3.0, gamma=0.2, kernel=linear;, score=0.974 total time=   0.0s\n",
      "[CV 5/5] END ...C=3.0, gamma=0.2, kernel=linear;, score=0.947 total time=   0.0s\n",
      "[CV 1/5] END .....C=3.0, gamma=0.2, kernel=poly;, score=0.974 total time=   0.0s\n",
      "[CV 2/5] END .....C=3.0, gamma=0.2, kernel=poly;, score=0.961 total time=   0.0s\n",
      "[CV 3/5] END .....C=3.0, gamma=0.2, kernel=poly;, score=0.934 total time=   0.0s\n",
      "[CV 4/5] END .....C=3.0, gamma=0.2, kernel=poly;, score=0.947 total time=   0.0s\n",
      "[CV 5/5] END .....C=3.0, gamma=0.2, kernel=poly;, score=0.882 total time=   0.0s\n",
      "[CV 1/5] END ......C=3.0, gamma=0.2, kernel=rbf;, score=0.948 total time=   0.0s\n",
      "[CV 2/5] END ......C=3.0, gamma=0.2, kernel=rbf;, score=0.947 total time=   0.0s\n",
      "[CV 3/5] END ......C=3.0, gamma=0.2, kernel=rbf;, score=0.842 total time=   0.0s\n",
      "[CV 4/5] END ......C=3.0, gamma=0.2, kernel=rbf;, score=0.961 total time=   0.0s\n",
      "[CV 5/5] END ......C=3.0, gamma=0.2, kernel=rbf;, score=0.921 total time=   0.0s\n",
      "[CV 1/5] END ..C=3.0, gamma=0.2, kernel=sigmoid;, score=0.896 total time=   0.0s\n",
      "[CV 2/5] END ..C=3.0, gamma=0.2, kernel=sigmoid;, score=0.895 total time=   0.0s\n",
      "[CV 3/5] END ..C=3.0, gamma=0.2, kernel=sigmoid;, score=0.895 total time=   0.0s\n",
      "[CV 4/5] END ..C=3.0, gamma=0.2, kernel=sigmoid;, score=0.882 total time=   0.0s\n",
      "[CV 5/5] END ..C=3.0, gamma=0.2, kernel=sigmoid;, score=0.855 total time=   0.0s\n",
      "[CV 1/5] END ...C=3.0, gamma=0.3, kernel=linear;, score=0.974 total time=   0.0s\n",
      "[CV 2/5] END ...C=3.0, gamma=0.3, kernel=linear;, score=0.947 total time=   0.0s\n",
      "[CV 3/5] END ...C=3.0, gamma=0.3, kernel=linear;, score=1.000 total time=   0.0s\n",
      "[CV 4/5] END ...C=3.0, gamma=0.3, kernel=linear;, score=0.974 total time=   0.0s\n",
      "[CV 5/5] END ...C=3.0, gamma=0.3, kernel=linear;, score=0.947 total time=   0.0s\n",
      "[CV 1/5] END .....C=3.0, gamma=0.3, kernel=poly;, score=0.974 total time=   0.0s\n",
      "[CV 2/5] END .....C=3.0, gamma=0.3, kernel=poly;, score=0.961 total time=   0.0s\n",
      "[CV 3/5] END .....C=3.0, gamma=0.3, kernel=poly;, score=0.934 total time=   0.0s\n",
      "[CV 4/5] END .....C=3.0, gamma=0.3, kernel=poly;, score=0.947 total time=   0.0s\n",
      "[CV 5/5] END .....C=3.0, gamma=0.3, kernel=poly;, score=0.882 total time=   0.0s\n",
      "[CV 1/5] END ......C=3.0, gamma=0.3, kernel=rbf;, score=0.948 total time=   0.0s\n",
      "[CV 2/5] END ......C=3.0, gamma=0.3, kernel=rbf;, score=0.921 total time=   0.0s\n",
      "[CV 3/5] END ......C=3.0, gamma=0.3, kernel=rbf;, score=0.842 total time=   0.0s\n",
      "[CV 4/5] END ......C=3.0, gamma=0.3, kernel=rbf;, score=0.961 total time=   0.0s\n",
      "[CV 5/5] END ......C=3.0, gamma=0.3, kernel=rbf;, score=0.934 total time=   0.0s\n",
      "[CV 1/5] END ..C=3.0, gamma=0.3, kernel=sigmoid;, score=0.909 total time=   0.0s\n",
      "[CV 2/5] END ..C=3.0, gamma=0.3, kernel=sigmoid;, score=0.855 total time=   0.0s\n",
      "[CV 3/5] END ..C=3.0, gamma=0.3, kernel=sigmoid;, score=0.789 total time=   0.0s\n",
      "[CV 4/5] END ..C=3.0, gamma=0.3, kernel=sigmoid;, score=0.868 total time=   0.0s\n",
      "[CV 5/5] END ..C=3.0, gamma=0.3, kernel=sigmoid;, score=0.855 total time=   0.0s\n"
     ]
    },
    {
     "data": {
      "text/html": [
       "<style>#sk-container-id-2 {color: black;background-color: white;}#sk-container-id-2 pre{padding: 0;}#sk-container-id-2 div.sk-toggleable {background-color: white;}#sk-container-id-2 label.sk-toggleable__label {cursor: pointer;display: block;width: 100%;margin-bottom: 0;padding: 0.3em;box-sizing: border-box;text-align: center;}#sk-container-id-2 label.sk-toggleable__label-arrow:before {content: \"▸\";float: left;margin-right: 0.25em;color: #696969;}#sk-container-id-2 label.sk-toggleable__label-arrow:hover:before {color: black;}#sk-container-id-2 div.sk-estimator:hover label.sk-toggleable__label-arrow:before {color: black;}#sk-container-id-2 div.sk-toggleable__content {max-height: 0;max-width: 0;overflow: hidden;text-align: left;background-color: #f0f8ff;}#sk-container-id-2 div.sk-toggleable__content pre {margin: 0.2em;color: black;border-radius: 0.25em;background-color: #f0f8ff;}#sk-container-id-2 input.sk-toggleable__control:checked~div.sk-toggleable__content {max-height: 200px;max-width: 100%;overflow: auto;}#sk-container-id-2 input.sk-toggleable__control:checked~label.sk-toggleable__label-arrow:before {content: \"▾\";}#sk-container-id-2 div.sk-estimator input.sk-toggleable__control:checked~label.sk-toggleable__label {background-color: #d4ebff;}#sk-container-id-2 div.sk-label input.sk-toggleable__control:checked~label.sk-toggleable__label {background-color: #d4ebff;}#sk-container-id-2 input.sk-hidden--visually {border: 0;clip: rect(1px 1px 1px 1px);clip: rect(1px, 1px, 1px, 1px);height: 1px;margin: -1px;overflow: hidden;padding: 0;position: absolute;width: 1px;}#sk-container-id-2 div.sk-estimator {font-family: monospace;background-color: #f0f8ff;border: 1px dotted black;border-radius: 0.25em;box-sizing: border-box;margin-bottom: 0.5em;}#sk-container-id-2 div.sk-estimator:hover {background-color: #d4ebff;}#sk-container-id-2 div.sk-parallel-item::after {content: \"\";width: 100%;border-bottom: 1px solid gray;flex-grow: 1;}#sk-container-id-2 div.sk-label:hover label.sk-toggleable__label {background-color: #d4ebff;}#sk-container-id-2 div.sk-serial::before {content: \"\";position: absolute;border-left: 1px solid gray;box-sizing: border-box;top: 0;bottom: 0;left: 50%;z-index: 0;}#sk-container-id-2 div.sk-serial {display: flex;flex-direction: column;align-items: center;background-color: white;padding-right: 0.2em;padding-left: 0.2em;position: relative;}#sk-container-id-2 div.sk-item {position: relative;z-index: 1;}#sk-container-id-2 div.sk-parallel {display: flex;align-items: stretch;justify-content: center;background-color: white;position: relative;}#sk-container-id-2 div.sk-item::before, #sk-container-id-2 div.sk-parallel-item::before {content: \"\";position: absolute;border-left: 1px solid gray;box-sizing: border-box;top: 0;bottom: 0;left: 50%;z-index: -1;}#sk-container-id-2 div.sk-parallel-item {display: flex;flex-direction: column;z-index: 1;position: relative;background-color: white;}#sk-container-id-2 div.sk-parallel-item:first-child::after {align-self: flex-end;width: 50%;}#sk-container-id-2 div.sk-parallel-item:last-child::after {align-self: flex-start;width: 50%;}#sk-container-id-2 div.sk-parallel-item:only-child::after {width: 0;}#sk-container-id-2 div.sk-dashed-wrapped {border: 1px dashed gray;margin: 0 0.4em 0.5em 0.4em;box-sizing: border-box;padding-bottom: 0.4em;background-color: white;}#sk-container-id-2 div.sk-label label {font-family: monospace;font-weight: bold;display: inline-block;line-height: 1.2em;}#sk-container-id-2 div.sk-label-container {text-align: center;}#sk-container-id-2 div.sk-container {/* jupyter's `normalize.less` sets `[hidden] { display: none; }` but bootstrap.min.css set `[hidden] { display: none !important; }` so we also need the `!important` here to be able to override the default hidden behavior on the sphinx rendered scikit-learn.org. See: https://github.com/scikit-learn/scikit-learn/issues/21755 */display: inline-block !important;position: relative;}#sk-container-id-2 div.sk-text-repr-fallback {display: none;}</style><div id=\"sk-container-id-2\" class=\"sk-top-container\"><div class=\"sk-text-repr-fallback\"><pre>GridSearchCV(cv=5, estimator=SVC(),\n",
       "             param_grid={&#x27;C&#x27;: [1.0, 2.0, 3.0], &#x27;gamma&#x27;: [0.1, 0.2, 0.3],\n",
       "                         &#x27;kernel&#x27;: [&#x27;linear&#x27;, &#x27;poly&#x27;, &#x27;rbf&#x27;, &#x27;sigmoid&#x27;]},\n",
       "             verbose=3)</pre><b>In a Jupyter environment, please rerun this cell to show the HTML representation or trust the notebook. <br />On GitHub, the HTML representation is unable to render, please try loading this page with nbviewer.org.</b></div><div class=\"sk-container\" hidden><div class=\"sk-item sk-dashed-wrapped\"><div class=\"sk-label-container\"><div class=\"sk-label sk-toggleable\"><input class=\"sk-toggleable__control sk-hidden--visually\" id=\"sk-estimator-id-2\" type=\"checkbox\" ><label for=\"sk-estimator-id-2\" class=\"sk-toggleable__label sk-toggleable__label-arrow\">GridSearchCV</label><div class=\"sk-toggleable__content\"><pre>GridSearchCV(cv=5, estimator=SVC(),\n",
       "             param_grid={&#x27;C&#x27;: [1.0, 2.0, 3.0], &#x27;gamma&#x27;: [0.1, 0.2, 0.3],\n",
       "                         &#x27;kernel&#x27;: [&#x27;linear&#x27;, &#x27;poly&#x27;, &#x27;rbf&#x27;, &#x27;sigmoid&#x27;]},\n",
       "             verbose=3)</pre></div></div></div><div class=\"sk-parallel\"><div class=\"sk-parallel-item\"><div class=\"sk-item\"><div class=\"sk-label-container\"><div class=\"sk-label sk-toggleable\"><input class=\"sk-toggleable__control sk-hidden--visually\" id=\"sk-estimator-id-3\" type=\"checkbox\" ><label for=\"sk-estimator-id-3\" class=\"sk-toggleable__label sk-toggleable__label-arrow\">estimator: SVC</label><div class=\"sk-toggleable__content\"><pre>SVC()</pre></div></div></div><div class=\"sk-serial\"><div class=\"sk-item\"><div class=\"sk-estimator sk-toggleable\"><input class=\"sk-toggleable__control sk-hidden--visually\" id=\"sk-estimator-id-4\" type=\"checkbox\" ><label for=\"sk-estimator-id-4\" class=\"sk-toggleable__label sk-toggleable__label-arrow\">SVC</label><div class=\"sk-toggleable__content\"><pre>SVC()</pre></div></div></div></div></div></div></div></div></div></div>"
      ],
      "text/plain": [
       "GridSearchCV(cv=5, estimator=SVC(),\n",
       "             param_grid={'C': [1.0, 2.0, 3.0], 'gamma': [0.1, 0.2, 0.3],\n",
       "                         'kernel': ['linear', 'poly', 'rbf', 'sigmoid']},\n",
       "             verbose=3)"
      ]
     },
     "execution_count": 39,
     "metadata": {},
     "output_type": "execute_result"
    }
   ],
   "source": [
    "hyper.fit(x_train,y_train)"
   ]
  },
  {
   "cell_type": "code",
   "execution_count": 40,
   "id": "9ee57ac9-0bb9-46a5-963e-99f4f733769b",
   "metadata": {},
   "outputs": [
    {
     "data": {
      "text/plain": [
       "{'C': 3.0, 'gamma': 0.1, 'kernel': 'linear'}"
      ]
     },
     "execution_count": 40,
     "metadata": {},
     "output_type": "execute_result"
    }
   ],
   "source": [
    "hyper.best_params_"
   ]
  },
  {
   "cell_type": "code",
   "execution_count": 41,
   "id": "a5f300c2-1f3f-4e4b-8036-9b4c5a156a1c",
   "metadata": {},
   "outputs": [],
   "source": [
    "y_predicted_hyper = hyper.predict(x_test)"
   ]
  },
  {
   "cell_type": "code",
   "execution_count": 42,
   "id": "98e14a45-7c93-4a3d-8465-0d9749246592",
   "metadata": {},
   "outputs": [
    {
     "name": "stdout",
     "output_type": "stream",
     "text": [
      "0.9680851063829787\n",
      "              precision    recall  f1-score   support\n",
      "\n",
      "           0       0.96      0.96      0.96        67\n",
      "           1       0.98      0.98      0.98       121\n",
      "\n",
      "    accuracy                           0.97       188\n",
      "   macro avg       0.97      0.97      0.97       188\n",
      "weighted avg       0.97      0.97      0.97       188\n",
      "\n"
     ]
    }
   ],
   "source": [
    "print(accuracy_score(y_test,y_predicted_hyper))\n",
    "print(classification_report(y_test,y_predicted_hyper))"
   ]
  },
  {
   "cell_type": "code",
   "execution_count": null,
   "id": "49666eab-1e7d-471a-aa51-53d991e5a6fa",
   "metadata": {},
   "outputs": [],
   "source": []
  }
 ],
 "metadata": {
  "kernelspec": {
   "display_name": "Python 3 (ipykernel)",
   "language": "python",
   "name": "python3"
  },
  "language_info": {
   "codemirror_mode": {
    "name": "ipython",
    "version": 3
   },
   "file_extension": ".py",
   "mimetype": "text/x-python",
   "name": "python",
   "nbconvert_exporter": "python",
   "pygments_lexer": "ipython3",
   "version": "3.10.8"
  }
 },
 "nbformat": 4,
 "nbformat_minor": 5
}
